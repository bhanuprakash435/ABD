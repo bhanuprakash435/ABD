{
 "cells": [
  {
   "cell_type": "code",
   "execution_count": 30,
   "metadata": {
    "ExecuteTime": {
     "end_time": "2021-02-08T13:56:21.168626Z",
     "start_time": "2021-02-08T13:56:21.162300Z"
    }
   },
   "outputs": [],
   "source": [
    "import pyspark\n",
    "from pyspark.sql import SparkSession"
   ]
  },
  {
   "cell_type": "code",
   "execution_count": 31,
   "metadata": {
    "ExecuteTime": {
     "end_time": "2021-02-08T13:56:55.488371Z",
     "start_time": "2021-02-08T13:56:55.473370Z"
    }
   },
   "outputs": [],
   "source": [
    "spark = SparkSession.builder.appName('program').getOrCreate()"
   ]
  },
  {
   "cell_type": "code",
   "execution_count": 33,
   "metadata": {
    "ExecuteTime": {
     "end_time": "2021-02-08T13:58:52.065941Z",
     "start_time": "2021-02-08T13:58:52.046300Z"
    }
   },
   "outputs": [
    {
     "data": {
      "text/plain": [
       "['Builder',\n",
       " '__class__',\n",
       " '__delattr__',\n",
       " '__dict__',\n",
       " '__dir__',\n",
       " '__doc__',\n",
       " '__enter__',\n",
       " '__eq__',\n",
       " '__exit__',\n",
       " '__format__',\n",
       " '__ge__',\n",
       " '__getattribute__',\n",
       " '__gt__',\n",
       " '__hash__',\n",
       " '__init__',\n",
       " '__init_subclass__',\n",
       " '__le__',\n",
       " '__lt__',\n",
       " '__module__',\n",
       " '__ne__',\n",
       " '__new__',\n",
       " '__reduce__',\n",
       " '__reduce_ex__',\n",
       " '__repr__',\n",
       " '__setattr__',\n",
       " '__sizeof__',\n",
       " '__str__',\n",
       " '__subclasshook__',\n",
       " '__weakref__',\n",
       " '_activeSession',\n",
       " '_catalog',\n",
       " '_conf',\n",
       " '_convert_from_pandas',\n",
       " '_createFromLocal',\n",
       " '_createFromRDD',\n",
       " '_create_dataframe',\n",
       " '_create_from_pandas_with_arrow',\n",
       " '_create_shell_session',\n",
       " '_get_numpy_record_dtype',\n",
       " '_inferSchema',\n",
       " '_inferSchemaFromList',\n",
       " '_instantiatedSession',\n",
       " '_jsc',\n",
       " '_jsparkSession',\n",
       " '_jvm',\n",
       " '_jwrapped',\n",
       " '_repr_html_',\n",
       " '_sc',\n",
       " '_wrapped',\n",
       " 'builder',\n",
       " 'catalog',\n",
       " 'conf',\n",
       " 'createDataFrame',\n",
       " 'getActiveSession',\n",
       " 'newSession',\n",
       " 'range',\n",
       " 'read',\n",
       " 'readStream',\n",
       " 'sparkContext',\n",
       " 'sql',\n",
       " 'stop',\n",
       " 'streams',\n",
       " 'table',\n",
       " 'udf',\n",
       " 'version']"
      ]
     },
     "execution_count": 33,
     "metadata": {},
     "output_type": "execute_result"
    }
   ],
   "source": [
    "dir(spark)"
   ]
  },
  {
   "cell_type": "code",
   "execution_count": 35,
   "metadata": {
    "ExecuteTime": {
     "end_time": "2021-02-08T13:59:33.760775Z",
     "start_time": "2021-02-08T13:59:31.934533Z"
    }
   },
   "outputs": [],
   "source": [
    "rdd = spark.sparkContext.parallelize([1, 2, 4])"
   ]
  },
  {
   "cell_type": "code",
   "execution_count": 36,
   "metadata": {
    "ExecuteTime": {
     "end_time": "2021-02-08T13:59:44.153833Z",
     "start_time": "2021-02-08T13:59:39.916895Z"
    }
   },
   "outputs": [
    {
     "data": {
      "text/plain": [
       "[1, 2, 4]"
      ]
     },
     "execution_count": 36,
     "metadata": {},
     "output_type": "execute_result"
    }
   ],
   "source": [
    "rdd.collect()"
   ]
  },
  {
   "cell_type": "code",
   "execution_count": 37,
   "metadata": {
    "ExecuteTime": {
     "end_time": "2021-02-08T14:00:26.677606Z",
     "start_time": "2021-02-08T14:00:22.577145Z"
    }
   },
   "outputs": [
    {
     "data": {
      "text/plain": [
       "3"
      ]
     },
     "execution_count": 37,
     "metadata": {},
     "output_type": "execute_result"
    }
   ],
   "source": [
    "rdd.count()"
   ]
  },
  {
   "cell_type": "code",
   "execution_count": 54,
   "metadata": {
    "ExecuteTime": {
     "end_time": "2021-02-08T14:07:03.991716Z",
     "start_time": "2021-02-08T14:07:03.690753Z"
    }
   },
   "outputs": [
    {
     "data": {
      "text/plain": [
       "[False, True, True]"
      ]
     },
     "execution_count": 54,
     "metadata": {},
     "output_type": "execute_result"
    }
   ],
   "source": [
    "rdd_tr = rdd.map(lambda x: x % 2 == 0)\n",
    "rdd_tr.collect()"
   ]
  },
  {
   "cell_type": "code",
   "execution_count": 58,
   "metadata": {
    "ExecuteTime": {
     "end_time": "2021-02-08T14:12:40.564596Z",
     "start_time": "2021-02-08T14:12:39.834744Z"
    }
   },
   "outputs": [],
   "source": [
    "rdd = spark.sparkContext.textFile('text.txt')"
   ]
  },
  {
   "cell_type": "code",
   "execution_count": 59,
   "metadata": {
    "ExecuteTime": {
     "end_time": "2021-02-08T14:12:46.267409Z",
     "start_time": "2021-02-08T14:12:45.263613Z"
    }
   },
   "outputs": [
    {
     "data": {
      "text/plain": [
       "['Many variations of Lorem Ipsum exist today, and sometimes the text is altered to include humorous phrases.',\n",
       " '',\n",
       " 'If you’re going to be using Lorem Ipsum as filler text on your pages, you need to make sure that the passage doesn’t contain potentially embarrassing information.',\n",
       " '',\n",
       " 'Using our Lorem Ipsum generator, you can easily select a variation to build your desired number of Lorem Ipsum paragraphs, sentences, or words.',\n",
       " '',\n",
       " 'In addition, our generator can insert HTML markup, create HTML paragraphs, and make your text bold or italic. This makes it a great option for graphic designers and webmasters.',\n",
       " '',\n",
       " \"There really is no limit to where Lorem Ipsum should be used. It doesn't matter if you're building the next Facebook, or if you're the director of marketing for an industrial, heavy equipment seller - Lorem Ipsum ensures everything goes (and reads!) smoothly from design to implementation.\",\n",
       " '',\n",
       " 'Lorem Ipsum is maintained by WebFX. To learn more about our revenue driving services']"
      ]
     },
     "execution_count": 59,
     "metadata": {},
     "output_type": "execute_result"
    }
   ],
   "source": [
    "rdd.collect()"
   ]
  },
  {
   "cell_type": "code",
   "execution_count": 74,
   "metadata": {
    "ExecuteTime": {
     "end_time": "2021-02-08T14:16:52.518367Z",
     "start_time": "2021-02-08T14:16:52.502231Z"
    }
   },
   "outputs": [],
   "source": [
    "rdd_ds = rdd.filter(lambda word: word.startswith('I'))"
   ]
  },
  {
   "cell_type": "code",
   "execution_count": 75,
   "metadata": {
    "ExecuteTime": {
     "end_time": "2021-02-08T14:16:55.088248Z",
     "start_time": "2021-02-08T14:16:54.883791Z"
    }
   },
   "outputs": [
    {
     "data": {
      "text/plain": [
       "['If you’re going to be using Lorem Ipsum as filler text on your pages, you need to make sure that the passage doesn’t contain potentially embarrassing information.',\n",
       " 'In addition, our generator can insert HTML markup, create HTML paragraphs, and make your text bold or italic. This makes it a great option for graphic designers and webmasters.']"
      ]
     },
     "execution_count": 75,
     "metadata": {},
     "output_type": "execute_result"
    }
   ],
   "source": [
    "rdd_ds.collect()"
   ]
  },
  {
   "cell_type": "code",
   "execution_count": 88,
   "metadata": {
    "ExecuteTime": {
     "end_time": "2021-02-08T14:21:41.289675Z",
     "start_time": "2021-02-08T14:21:41.282304Z"
    }
   },
   "outputs": [],
   "source": [
    "rdd_ds = rdd.map(lambda word: word.split(' '))"
   ]
  },
  {
   "cell_type": "code",
   "execution_count": 89,
   "metadata": {
    "ExecuteTime": {
     "end_time": "2021-02-08T14:21:42.163093Z",
     "start_time": "2021-02-08T14:21:41.995314Z"
    }
   },
   "outputs": [
    {
     "data": {
      "text/plain": [
       "[['Many',\n",
       "  'variations',\n",
       "  'of',\n",
       "  'Lorem',\n",
       "  'Ipsum',\n",
       "  'exist',\n",
       "  'today,',\n",
       "  'and',\n",
       "  'sometimes',\n",
       "  'the',\n",
       "  'text',\n",
       "  'is',\n",
       "  'altered',\n",
       "  'to',\n",
       "  'include',\n",
       "  'humorous',\n",
       "  'phrases.'],\n",
       " [''],\n",
       " ['If',\n",
       "  'you’re',\n",
       "  'going',\n",
       "  'to',\n",
       "  'be',\n",
       "  'using',\n",
       "  'Lorem',\n",
       "  'Ipsum',\n",
       "  'as',\n",
       "  'filler',\n",
       "  'text',\n",
       "  'on',\n",
       "  'your',\n",
       "  'pages,',\n",
       "  'you',\n",
       "  'need',\n",
       "  'to',\n",
       "  'make',\n",
       "  'sure',\n",
       "  'that',\n",
       "  'the',\n",
       "  'passage',\n",
       "  'doesn’t',\n",
       "  'contain',\n",
       "  'potentially',\n",
       "  'embarrassing',\n",
       "  'information.'],\n",
       " [''],\n",
       " ['Using',\n",
       "  'our',\n",
       "  'Lorem',\n",
       "  'Ipsum',\n",
       "  'generator,',\n",
       "  'you',\n",
       "  'can',\n",
       "  'easily',\n",
       "  'select',\n",
       "  'a',\n",
       "  'variation',\n",
       "  'to',\n",
       "  'build',\n",
       "  'your',\n",
       "  'desired',\n",
       "  'number',\n",
       "  'of',\n",
       "  'Lorem',\n",
       "  'Ipsum',\n",
       "  'paragraphs,',\n",
       "  'sentences,',\n",
       "  'or',\n",
       "  'words.'],\n",
       " [''],\n",
       " ['In',\n",
       "  'addition,',\n",
       "  'our',\n",
       "  'generator',\n",
       "  'can',\n",
       "  'insert',\n",
       "  'HTML',\n",
       "  'markup,',\n",
       "  'create',\n",
       "  'HTML',\n",
       "  'paragraphs,',\n",
       "  'and',\n",
       "  'make',\n",
       "  'your',\n",
       "  'text',\n",
       "  'bold',\n",
       "  'or',\n",
       "  'italic.',\n",
       "  'This',\n",
       "  'makes',\n",
       "  'it',\n",
       "  'a',\n",
       "  'great',\n",
       "  'option',\n",
       "  'for',\n",
       "  'graphic',\n",
       "  'designers',\n",
       "  'and',\n",
       "  'webmasters.'],\n",
       " [''],\n",
       " ['There',\n",
       "  'really',\n",
       "  'is',\n",
       "  'no',\n",
       "  'limit',\n",
       "  'to',\n",
       "  'where',\n",
       "  'Lorem',\n",
       "  'Ipsum',\n",
       "  'should',\n",
       "  'be',\n",
       "  'used.',\n",
       "  'It',\n",
       "  \"doesn't\",\n",
       "  'matter',\n",
       "  'if',\n",
       "  \"you're\",\n",
       "  'building',\n",
       "  'the',\n",
       "  'next',\n",
       "  'Facebook,',\n",
       "  'or',\n",
       "  'if',\n",
       "  \"you're\",\n",
       "  'the',\n",
       "  'director',\n",
       "  'of',\n",
       "  'marketing',\n",
       "  'for',\n",
       "  'an',\n",
       "  'industrial,',\n",
       "  'heavy',\n",
       "  'equipment',\n",
       "  'seller',\n",
       "  '-',\n",
       "  'Lorem',\n",
       "  'Ipsum',\n",
       "  'ensures',\n",
       "  'everything',\n",
       "  'goes',\n",
       "  '(and',\n",
       "  'reads!)',\n",
       "  'smoothly',\n",
       "  'from',\n",
       "  'design',\n",
       "  'to',\n",
       "  'implementation.'],\n",
       " [''],\n",
       " ['Lorem',\n",
       "  'Ipsum',\n",
       "  'is',\n",
       "  'maintained',\n",
       "  'by',\n",
       "  'WebFX.',\n",
       "  'To',\n",
       "  'learn',\n",
       "  'more',\n",
       "  'about',\n",
       "  'our',\n",
       "  'revenue',\n",
       "  'driving',\n",
       "  'services']]"
      ]
     },
     "execution_count": 89,
     "metadata": {},
     "output_type": "execute_result"
    }
   ],
   "source": [
    "rdd_ds.collect()"
   ]
  },
  {
   "cell_type": "code",
   "execution_count": 94,
   "metadata": {
    "ExecuteTime": {
     "end_time": "2021-02-08T14:25:35.814390Z",
     "start_time": "2021-02-08T14:25:35.546054Z"
    }
   },
   "outputs": [
    {
     "data": {
      "text/plain": [
       "11"
      ]
     },
     "execution_count": 94,
     "metadata": {},
     "output_type": "execute_result"
    }
   ],
   "source": [
    "rdd_ds.count()"
   ]
  },
  {
   "cell_type": "code",
   "execution_count": 99,
   "metadata": {
    "ExecuteTime": {
     "end_time": "2021-02-08T14:29:55.494950Z",
     "start_time": "2021-02-08T14:29:54.536662Z"
    }
   },
   "outputs": [
    {
     "name": "stderr",
     "output_type": "stream",
     "text": [
      "/opt/spark/python/pyspark/sql/session.py:381: UserWarning: inferring schema from dict is deprecated,please use pyspark.sql.Row instead\n",
      "  warnings.warn(\"inferring schema from dict is deprecated,\"\n"
     ]
    },
    {
     "name": "stdout",
     "output_type": "stream",
     "text": [
      "+---+---+---+\n",
      "|BDA|HDA| ML|\n",
      "+---+---+---+\n",
      "|  2|  4| 10|\n",
      "+---+---+---+\n",
      "\n"
     ]
    }
   ],
   "source": [
    "rdd_df = spark.createDataFrame([{'BDA': 2, 'HDA': 4, 'ML': 10}])\n",
    "rdd_df.show()"
   ]
  },
  {
   "cell_type": "code",
   "execution_count": 100,
   "metadata": {
    "ExecuteTime": {
     "end_time": "2021-02-08T15:15:37.838487Z",
     "start_time": "2021-02-08T15:15:14.349954Z"
    }
   },
   "outputs": [
    {
     "name": "stdout",
     "output_type": "stream",
     "text": [
      "root\n",
      " |-- employee_name: string (nullable = true)\n",
      " |-- department: string (nullable = true)\n",
      " |-- state: string (nullable = true)\n",
      " |-- salary: long (nullable = true)\n",
      " |-- age: long (nullable = true)\n",
      " |-- bonus: long (nullable = true)\n",
      "\n",
      "+-------------+----------+-----+------+---+-----+\n",
      "|employee_name|department|state|salary|age|bonus|\n",
      "+-------------+----------+-----+------+---+-----+\n",
      "|James        |Sales     |NY   |90000 |34 |10000|\n",
      "|Michael      |Sales     |NY   |86000 |56 |20000|\n",
      "|Robert       |Sales     |CA   |81000 |30 |23000|\n",
      "|Maria        |Finance   |CA   |90000 |24 |23000|\n",
      "|Raman        |Finance   |CA   |99000 |40 |24000|\n",
      "|Scott        |Finance   |NY   |83000 |36 |19000|\n",
      "|Jen          |Finance   |NY   |79000 |53 |15000|\n",
      "|Jeff         |Marketing |CA   |80000 |25 |18000|\n",
      "|Kumar        |Marketing |NY   |91000 |50 |21000|\n",
      "+-------------+----------+-----+------+---+-----+\n",
      "\n",
      "+----------+-----------+\n",
      "|department|sum(salary)|\n",
      "+----------+-----------+\n",
      "|Sales     |257000     |\n",
      "|Finance   |351000     |\n",
      "|Marketing |171000     |\n",
      "+----------+-----------+\n",
      "\n",
      "+----------+-----+\n",
      "|department|count|\n",
      "+----------+-----+\n",
      "|Sales     |3    |\n",
      "|Finance   |4    |\n",
      "|Marketing |2    |\n",
      "+----------+-----+\n",
      "\n",
      "+----------+-----+-----------+----------+\n",
      "|department|state|sum(salary)|sum(bonus)|\n",
      "+----------+-----+-----------+----------+\n",
      "|Finance   |NY   |162000     |34000     |\n",
      "|Marketing |NY   |91000      |21000     |\n",
      "|Sales     |CA   |81000      |23000     |\n",
      "|Marketing |CA   |80000      |18000     |\n",
      "|Finance   |CA   |189000     |47000     |\n",
      "|Sales     |NY   |176000     |30000     |\n",
      "+----------+-----+-----------+----------+\n",
      "\n",
      "+----------+----------+-----------------+---------+---------+\n",
      "|department|sum_salary|avg_salary       |sum_bonus|max_bonus|\n",
      "+----------+----------+-----------------+---------+---------+\n",
      "|Sales     |257000    |85666.66666666667|53000    |23000    |\n",
      "|Finance   |351000    |87750.0          |81000    |24000    |\n",
      "|Marketing |171000    |85500.0          |39000    |21000    |\n",
      "+----------+----------+-----------------+---------+---------+\n",
      "\n",
      "+----------+----------+-----------------+---------+---------+\n",
      "|department|sum_salary|avg_salary       |sum_bonus|max_bonus|\n",
      "+----------+----------+-----------------+---------+---------+\n",
      "|Sales     |257000    |85666.66666666667|53000    |23000    |\n",
      "|Finance   |351000    |87750.0          |81000    |24000    |\n",
      "+----------+----------+-----------------+---------+---------+\n",
      "\n"
     ]
    }
   ],
   "source": [
    "import pyspark\n",
    "from pyspark.sql import SparkSession\n",
    "from pyspark.sql.functions import col,sum,avg,max\n",
    "\n",
    "spark = SparkSession.builder.appName('SparkByExamples.com').getOrCreate()\n",
    "\n",
    "simpleData = [(\"James\",\"Sales\",\"NY\",90000,34,10000),\n",
    "    (\"Michael\",\"Sales\",\"NY\",86000,56,20000),\n",
    "    (\"Robert\",\"Sales\",\"CA\",81000,30,23000),\n",
    "    (\"Maria\",\"Finance\",\"CA\",90000,24,23000),\n",
    "    (\"Raman\",\"Finance\",\"CA\",99000,40,24000),\n",
    "    (\"Scott\",\"Finance\",\"NY\",83000,36,19000),\n",
    "    (\"Jen\",\"Finance\",\"NY\",79000,53,15000),\n",
    "    (\"Jeff\",\"Marketing\",\"CA\",80000,25,18000),\n",
    "    (\"Kumar\",\"Marketing\",\"NY\",91000,50,21000)\n",
    "  ]\n",
    "\n",
    "schema = [\"employee_name\",\"department\",\"state\",\"salary\",\"age\",\"bonus\"]\n",
    "df = spark.createDataFrame(data=simpleData, schema = schema)\n",
    "df.printSchema()\n",
    "df.show(truncate=False)\n",
    "\n",
    "df.groupBy(\"department\").sum(\"salary\").show(truncate=False)\n",
    "\n",
    "df.groupBy(\"department\").count().show(truncate=False)\n",
    "\n",
    "\n",
    "df.groupBy(\"department\",\"state\") \\\n",
    "    .sum(\"salary\",\"bonus\") \\\n",
    "   .show(truncate=False)\n",
    "\n",
    "df.groupBy(\"department\") \\\n",
    "    .agg(sum(\"salary\").alias(\"sum_salary\"), \\\n",
    "         avg(\"salary\").alias(\"avg_salary\"), \\\n",
    "         sum(\"bonus\").alias(\"sum_bonus\"), \\\n",
    "         max(\"bonus\").alias(\"max_bonus\") \\\n",
    "     ) \\\n",
    "    .show(truncate=False)\n",
    "    \n",
    "df.groupBy(\"department\") \\\n",
    "    .agg(sum(\"salary\").alias(\"sum_salary\"), \\\n",
    "      avg(\"salary\").alias(\"avg_salary\"), \\\n",
    "      sum(\"bonus\").alias(\"sum_bonus\"), \\\n",
    "      max(\"bonus\").alias(\"max_bonus\")) \\\n",
    "    .where(col(\"sum_bonus\") >= 50000) \\\n",
    "    .show(truncate=False)\n"
   ]
  },
  {
   "cell_type": "code",
   "execution_count": null,
   "metadata": {},
   "outputs": [],
   "source": []
  }
 ],
 "metadata": {
  "kernelspec": {
   "display_name": "Python 3",
   "language": "python",
   "name": "python3"
  },
  "language_info": {
   "codemirror_mode": {
    "name": "ipython",
    "version": 3
   },
   "file_extension": ".py",
   "mimetype": "text/x-python",
   "name": "python",
   "nbconvert_exporter": "python",
   "pygments_lexer": "ipython3",
   "version": "3.8.5"
  }
 },
 "nbformat": 4,
 "nbformat_minor": 4
}
