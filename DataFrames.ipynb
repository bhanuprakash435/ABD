{
 "cells": [
  {
   "cell_type": "code",
   "execution_count": 1,
   "metadata": {},
   "outputs": [],
   "source": [
    "import pyspark\n",
    "from pyspark.sql import SparkSession\n",
    "spark = SparkSession.builder.appName('DataFrame').getOrCreate()"
   ]
  },
  {
   "cell_type": "code",
   "execution_count": 2,
   "metadata": {},
   "outputs": [],
   "source": [
    "# create DataFrame through RDD\n",
    "\n",
    "columns = ['currency', 'value']\n",
    "inputdata = [('Euro', 90), ('Pound', 100), ('Yuan', 11), ('Yen', 2), ('US Dollar', 74), ('K Dinar', 242)]\n",
    "\n",
    "# RDD\n",
    "rdd = spark.sparkContext.parallelize(inputdata)\n",
    "rddDF = rdd.toDF()\n",
    "df = rddDF.withColumnRenamed('_1', 'Currency')\n",
    "#df.show()\n",
    "df = spark.createDataFrame(rdd).toDF(*columns)\n",
    "#df.show()"
   ]
  },
  {
   "cell_type": "code",
   "execution_count": 3,
   "metadata": {},
   "outputs": [],
   "source": [
    "# Create DataFrame\n",
    "\n",
    "df = spark.createDataaFrame(data=inputdata, schema=columns)\n",
    "#df.show()"
   ]
  },
  {
   "cell_type": "code",
   "execution_count": 4,
   "metadata": {},
   "outputs": [],
   "source": [
    "#Writing df content to CSV\n",
    "\n",
    "df.write.format('csv').save('D:/test1')"
   ]
  },
  {
   "cell_type": "code",
   "execution_count": 5,
   "metadata": {},
   "outputs": [],
   "source": [
    "# write without partition\n",
    "df.repartition(1).write.format('csv').save('D:/csv', header=True)"
   ]
  },
  {
   "cell_type": "code",
   "execution_count": 6,
   "metadata": {},
   "outputs": [],
   "source": [
    "# Write DF content to text file through RDD\n",
    "df.rdd.map(lambda x: x[0] + \",\" +str(x[1])).repartition(1).saveAsTextFile('D:/Text')"
   ]
  },
  {
   "cell_type": "code",
   "execution_count": 7,
   "metadata": {},
   "outputs": [
    {
     "ename": "AnalysisException",
     "evalue": "Path does not exist: file:/D:/Dataset/flight-data/csv/2015-summary.csv;",
     "output_type": "error",
     "traceback": [
      "\u001b[1;31m---------------------------------------------------------------------------\u001b[0m",
      "\u001b[1;31mAnalysisException\u001b[0m                         Traceback (most recent call last)",
      "\u001b[1;32m<ipython-input-7-1dd699896903>\u001b[0m in \u001b[0;36m<module>\u001b[1;34m\u001b[0m\n\u001b[0;32m      3\u001b[0m     \u001b[1;33m.\u001b[0m\u001b[0moption\u001b[0m\u001b[1;33m(\u001b[0m\u001b[1;34m'header'\u001b[0m\u001b[1;33m,\u001b[0m \u001b[1;34m'true'\u001b[0m\u001b[1;33m)\u001b[0m\u001b[0;31m\\\u001b[0m\u001b[1;33m\u001b[0m\u001b[1;33m\u001b[0m\u001b[0m\n\u001b[0;32m      4\u001b[0m     \u001b[1;33m.\u001b[0m\u001b[0moption\u001b[0m\u001b[1;33m(\u001b[0m\u001b[1;34m'inferSchema'\u001b[0m\u001b[1;33m,\u001b[0m \u001b[1;34m'true'\u001b[0m\u001b[1;33m)\u001b[0m\u001b[0;31m\\\u001b[0m\u001b[1;33m\u001b[0m\u001b[1;33m\u001b[0m\u001b[0m\n\u001b[1;32m----> 5\u001b[1;33m     \u001b[1;33m.\u001b[0m\u001b[0mload\u001b[0m\u001b[1;33m(\u001b[0m\u001b[1;34m'D:/Dataset/flight-data/csv/2015-summary.csv'\u001b[0m\u001b[1;33m)\u001b[0m\u001b[1;33m\u001b[0m\u001b[1;33m\u001b[0m\u001b[0m\n\u001b[0m\u001b[0;32m      6\u001b[0m \u001b[1;31m#df.show()\u001b[0m\u001b[1;33m\u001b[0m\u001b[1;33m\u001b[0m\u001b[1;33m\u001b[0m\u001b[0m\n",
      "\u001b[1;32m~\\Anaconda3\\lib\\site-packages\\pyspark\\sql\\readwriter.py\u001b[0m in \u001b[0;36mload\u001b[1;34m(self, path, format, schema, **options)\u001b[0m\n\u001b[0;32m    176\u001b[0m         \u001b[0mself\u001b[0m\u001b[1;33m.\u001b[0m\u001b[0moptions\u001b[0m\u001b[1;33m(\u001b[0m\u001b[1;33m**\u001b[0m\u001b[0moptions\u001b[0m\u001b[1;33m)\u001b[0m\u001b[1;33m\u001b[0m\u001b[1;33m\u001b[0m\u001b[0m\n\u001b[0;32m    177\u001b[0m         \u001b[1;32mif\u001b[0m \u001b[0misinstance\u001b[0m\u001b[1;33m(\u001b[0m\u001b[0mpath\u001b[0m\u001b[1;33m,\u001b[0m \u001b[0mbasestring\u001b[0m\u001b[1;33m)\u001b[0m\u001b[1;33m:\u001b[0m\u001b[1;33m\u001b[0m\u001b[1;33m\u001b[0m\u001b[0m\n\u001b[1;32m--> 178\u001b[1;33m             \u001b[1;32mreturn\u001b[0m \u001b[0mself\u001b[0m\u001b[1;33m.\u001b[0m\u001b[0m_df\u001b[0m\u001b[1;33m(\u001b[0m\u001b[0mself\u001b[0m\u001b[1;33m.\u001b[0m\u001b[0m_jreader\u001b[0m\u001b[1;33m.\u001b[0m\u001b[0mload\u001b[0m\u001b[1;33m(\u001b[0m\u001b[0mpath\u001b[0m\u001b[1;33m)\u001b[0m\u001b[1;33m)\u001b[0m\u001b[1;33m\u001b[0m\u001b[1;33m\u001b[0m\u001b[0m\n\u001b[0m\u001b[0;32m    179\u001b[0m         \u001b[1;32melif\u001b[0m \u001b[0mpath\u001b[0m \u001b[1;32mis\u001b[0m \u001b[1;32mnot\u001b[0m \u001b[1;32mNone\u001b[0m\u001b[1;33m:\u001b[0m\u001b[1;33m\u001b[0m\u001b[1;33m\u001b[0m\u001b[0m\n\u001b[0;32m    180\u001b[0m             \u001b[1;32mif\u001b[0m \u001b[0mtype\u001b[0m\u001b[1;33m(\u001b[0m\u001b[0mpath\u001b[0m\u001b[1;33m)\u001b[0m \u001b[1;33m!=\u001b[0m \u001b[0mlist\u001b[0m\u001b[1;33m:\u001b[0m\u001b[1;33m\u001b[0m\u001b[1;33m\u001b[0m\u001b[0m\n",
      "\u001b[1;32m~\\Anaconda3\\lib\\site-packages\\py4j\\java_gateway.py\u001b[0m in \u001b[0;36m__call__\u001b[1;34m(self, *args)\u001b[0m\n\u001b[0;32m   1303\u001b[0m         \u001b[0manswer\u001b[0m \u001b[1;33m=\u001b[0m \u001b[0mself\u001b[0m\u001b[1;33m.\u001b[0m\u001b[0mgateway_client\u001b[0m\u001b[1;33m.\u001b[0m\u001b[0msend_command\u001b[0m\u001b[1;33m(\u001b[0m\u001b[0mcommand\u001b[0m\u001b[1;33m)\u001b[0m\u001b[1;33m\u001b[0m\u001b[1;33m\u001b[0m\u001b[0m\n\u001b[0;32m   1304\u001b[0m         return_value = get_return_value(\n\u001b[1;32m-> 1305\u001b[1;33m             answer, self.gateway_client, self.target_id, self.name)\n\u001b[0m\u001b[0;32m   1306\u001b[0m \u001b[1;33m\u001b[0m\u001b[0m\n\u001b[0;32m   1307\u001b[0m         \u001b[1;32mfor\u001b[0m \u001b[0mtemp_arg\u001b[0m \u001b[1;32min\u001b[0m \u001b[0mtemp_args\u001b[0m\u001b[1;33m:\u001b[0m\u001b[1;33m\u001b[0m\u001b[1;33m\u001b[0m\u001b[0m\n",
      "\u001b[1;32m~\\Anaconda3\\lib\\site-packages\\pyspark\\sql\\utils.py\u001b[0m in \u001b[0;36mdeco\u001b[1;34m(*a, **kw)\u001b[0m\n\u001b[0;32m    132\u001b[0m                 \u001b[1;31m# Hide where the exception came from that shows a non-Pythonic\u001b[0m\u001b[1;33m\u001b[0m\u001b[1;33m\u001b[0m\u001b[1;33m\u001b[0m\u001b[0m\n\u001b[0;32m    133\u001b[0m                 \u001b[1;31m# JVM exception message.\u001b[0m\u001b[1;33m\u001b[0m\u001b[1;33m\u001b[0m\u001b[1;33m\u001b[0m\u001b[0m\n\u001b[1;32m--> 134\u001b[1;33m                 \u001b[0mraise_from\u001b[0m\u001b[1;33m(\u001b[0m\u001b[0mconverted\u001b[0m\u001b[1;33m)\u001b[0m\u001b[1;33m\u001b[0m\u001b[1;33m\u001b[0m\u001b[0m\n\u001b[0m\u001b[0;32m    135\u001b[0m             \u001b[1;32melse\u001b[0m\u001b[1;33m:\u001b[0m\u001b[1;33m\u001b[0m\u001b[1;33m\u001b[0m\u001b[0m\n\u001b[0;32m    136\u001b[0m                 \u001b[1;32mraise\u001b[0m\u001b[1;33m\u001b[0m\u001b[1;33m\u001b[0m\u001b[0m\n",
      "\u001b[1;32m~\\Anaconda3\\lib\\site-packages\\pyspark\\sql\\utils.py\u001b[0m in \u001b[0;36mraise_from\u001b[1;34m(e)\u001b[0m\n",
      "\u001b[1;31mAnalysisException\u001b[0m: Path does not exist: file:/D:/Dataset/flight-data/csv/2015-summary.csv;"
     ]
    }
   ],
   "source": [
    "# Reading Data to DataFrame from datasource (csv)\n",
    "df = spark.read.format('csv')\\\n",
    "    .option('header', 'true')\\\n",
    "    .option('inferSchema', 'true')\\\n",
    "    .load('D:/csv/movie.csv')\n",
    "#df.show()"
   ]
  },
  {
   "cell_type": "code",
   "execution_count": 8,
   "metadata": {},
   "outputs": [],
   "source": [
    "from pyspark.sql.functions import col, expr, column, udf, date_sub, date_add, col, datediff, regexp_extract\n",
    "from pyspark.sql.types import StringType, IntegerType\n",
    "\n",
    "# various ways of selecting columns\n",
    "\n",
    "#df.select(col('DEST_COUNTRY_NAME')).show(5, False)\n",
    "\n",
    "#df.select(column('DEST_COUNTRY_NAME')).show(5, False)\n",
    "\n",
    "#df.select('DEST_COUNTRY_NAME').show(5, False)\n",
    "\n",
    "#df.select('DEST_COUNTRY_NAME', 'ORIGIN_COUNTRY_NAME').show(5, False)\n",
    "\n",
    "#df.select(expr('DEST_COUNTRY_NAME AS Destination')) .show(5, False)\n",
    "#df.select('DEST_COUNTRY_NAME').show(5, False)\n"
   ]
  },
  {
   "cell_type": "code",
   "execution_count": 9,
   "metadata": {
    "collapsed": true
   },
   "outputs": [
    {
     "name": "stdout",
     "output_type": "stream",
     "text": [
      "+-----------------+-------------------+-----+-------------+\n",
      "|DEST_COUNTRY_NAME|ORIGIN_COUNTRY_NAME|count|withinCountry|\n",
      "+-----------------+-------------------+-----+-------------+\n",
      "|United States    |Romania            |15   |false        |\n",
      "|United States    |Croatia            |1    |false        |\n",
      "|United States    |Ireland            |344  |false        |\n",
      "|Egypt            |United States      |15   |false        |\n",
      "|United States    |India              |62   |false        |\n",
      "+-----------------+-------------------+-----+-------------+\n",
      "only showing top 5 rows\n",
      "\n"
     ]
    }
   ],
   "source": [
    "# add column to dataframe\n",
    "df.withColumn('withinCountry', expr('ORIGIN_COUNTRY_NAME == DEST_COUNTRY_NAME')).show(5, False)"
   ]
  },
  {
   "cell_type": "code",
   "execution_count": 10,
   "metadata": {
    "collapsed": true
   },
   "outputs": [
    {
     "name": "stdout",
     "output_type": "stream",
     "text": [
      "+-----------------+-------------------+-----+---------+\n",
      "|DEST_COUNTRY_NAME|ORIGIN_COUNTRY_NAME|count|Frequency|\n",
      "+-----------------+-------------------+-----+---------+\n",
      "|United States    |Romania            |15   |Normal   |\n",
      "|United States    |Croatia            |1    |Min      |\n",
      "|United States    |Ireland            |344  |Busy     |\n",
      "|Egypt            |United States      |15   |Normal   |\n",
      "|United States    |India              |62   |More     |\n",
      "+-----------------+-------------------+-----+---------+\n",
      "only showing top 5 rows\n",
      "\n"
     ]
    }
   ],
   "source": [
    "# Adding column by user defined function\n",
    "\n",
    "def computeGroup(count):\n",
    "    if count < 2:\n",
    "        return 'Min'\n",
    "    elif count < 20:\n",
    "        return 'Normal'\n",
    "    elif count < 100:\n",
    "        return 'More'\n",
    "    else:\n",
    "        return 'Busy'\n",
    "\n",
    "group_udf = udf(computeGroup, StringType())\n",
    "df.withColumn('Frequency', group_udf(`))).show(5, False)"
   ]
  },
  {
   "cell_type": "code",
   "execution_count": 7,
   "metadata": {
    "scrolled": true
   },
   "outputs": [
    {
     "name": "stdout",
     "output_type": "stream",
     "text": [
      "+-------+--------------------+--------------------+\n",
      "|movieId|               title|                type|\n",
      "+-------+--------------------+--------------------+\n",
      "|      1|    Toy Story (1995)|Adventure|Animati...|\n",
      "|      2|      Jumanji (1995)|Adventure|Childre...|\n",
      "|      3|Grumpier Old Men ...|      Comedy|Romance|\n",
      "|      4|Waiting to Exhale...|Comedy|Drama|Romance|\n",
      "|      5|Father of the Bri...|              Comedy|\n",
      "|      6|         Heat (1995)|Action|Crime|Thri...|\n",
      "|      7|      Sabrina (1995)|      Comedy|Romance|\n",
      "|      8| Tom and Huck (1995)|  Adventure|Children|\n",
      "|      9| Sudden Death (1995)|              Action|\n",
      "|     10|    GoldenEye (1995)|Action|Adventure|...|\n",
      "|     11|American Presiden...|Comedy|Drama|Romance|\n",
      "|     12|Dracula: Dead and...|       Comedy|Horror|\n",
      "|     13|        Balto (1995)|Adventure|Animati...|\n",
      "|     14|        Nixon (1995)|               Drama|\n",
      "|     15|Cutthroat Island ...|Action|Adventure|...|\n",
      "|     16|       Casino (1995)|         Crime|Drama|\n",
      "|     17|Sense and Sensibi...|       Drama|Romance|\n",
      "|     18|   Four Rooms (1995)|              Comedy|\n",
      "|     19|Ace Ventura: When...|              Comedy|\n",
      "|     20|  Money Train (1995)|Action|Comedy|Cri...|\n",
      "+-------+--------------------+--------------------+\n",
      "only showing top 20 rows\n",
      "\n"
     ]
    }
   ],
   "source": [
    "# Movie Dataset\n",
    "from pyspark.sql.functions import col, expr, column, udf, date_sub, date_add, col, datediff, regexp_extract\n",
    "from pyspark.sql.types import StringType, IntegerType\n",
    "movieDf = spark.read.format('csv')\\\n",
    "    .option('header', 'true')\\\n",
    "    .option('inferSchema', 'true')\\\n",
    "    .load('movie.csv')\n",
    "movieDf.show()\n",
    "\n",
    "movieYear = movieDf.withColumn('Year',regexp_extract(col('title'), r\"(\\d\\d\\d\\d)\", 1).cast(IntegerType()))\n",
    "cleanedMovie = movieYear.na.drop()\n"
   ]
  },
  {
   "cell_type": "code",
   "execution_count": 8,
   "metadata": {},
   "outputs": [
    {
     "name": "stdout",
     "output_type": "stream",
     "text": [
      "+-------+--------------------+--------------------+----+------+\n",
      "|movieId|               title|                type|Year|Decade|\n",
      "+-------+--------------------+--------------------+----+------+\n",
      "|      1|    Toy Story (1995)|Adventure|Animati...|1995|  1990|\n",
      "|      2|      Jumanji (1995)|Adventure|Childre...|1995|  1990|\n",
      "|      3|Grumpier Old Men ...|      Comedy|Romance|1995|  1990|\n",
      "|      4|Waiting to Exhale...|Comedy|Drama|Romance|1995|  1990|\n",
      "|      5|Father of the Bri...|              Comedy|1995|  1990|\n",
      "|      6|         Heat (1995)|Action|Crime|Thri...|1995|  1990|\n",
      "|      7|      Sabrina (1995)|      Comedy|Romance|1995|  1990|\n",
      "|      8| Tom and Huck (1995)|  Adventure|Children|1995|  1990|\n",
      "|      9| Sudden Death (1995)|              Action|1995|  1990|\n",
      "|     10|    GoldenEye (1995)|Action|Adventure|...|1995|  1990|\n",
      "|     11|American Presiden...|Comedy|Drama|Romance|1995|  1990|\n",
      "|     12|Dracula: Dead and...|       Comedy|Horror|1995|  1990|\n",
      "|     13|        Balto (1995)|Adventure|Animati...|1995|  1990|\n",
      "|     14|        Nixon (1995)|               Drama|1995|  1990|\n",
      "|     15|Cutthroat Island ...|Action|Adventure|...|1995|  1990|\n",
      "|     16|       Casino (1995)|         Crime|Drama|1995|  1990|\n",
      "|     17|Sense and Sensibi...|       Drama|Romance|1995|  1990|\n",
      "|     18|   Four Rooms (1995)|              Comedy|1995|  1990|\n",
      "|     19|Ace Ventura: When...|              Comedy|1995|  1990|\n",
      "|     20|  Money Train (1995)|Action|Comedy|Cri...|1995|  1990|\n",
      "+-------+--------------------+--------------------+----+------+\n",
      "only showing top 20 rows\n",
      "\n",
      "+-------+--------------------+--------------------+----+------+\n",
      "|movieId|               title|                type|Year|Decade|\n",
      "+-------+--------------------+--------------------+----+------+\n",
      "|      1|    Toy Story (1995)|Adventure|Animati...|1995|  1990|\n",
      "|      2|      Jumanji (1995)|Adventure|Childre...|1995|  1990|\n",
      "|      3|Grumpier Old Men ...|      Comedy|Romance|1995|  1990|\n",
      "|      4|Waiting to Exhale...|Comedy|Drama|Romance|1995|  1990|\n",
      "|      5|Father of the Bri...|              Comedy|1995|  1990|\n",
      "|      6|         Heat (1995)|Action|Crime|Thri...|1995|  1990|\n",
      "|      7|      Sabrina (1995)|      Comedy|Romance|1995|  1990|\n",
      "|      8| Tom and Huck (1995)|  Adventure|Children|1995|  1990|\n",
      "|      9| Sudden Death (1995)|              Action|1995|  1990|\n",
      "|     10|    GoldenEye (1995)|Action|Adventure|...|1995|  1990|\n",
      "|     11|American Presiden...|Comedy|Drama|Romance|1995|  1990|\n",
      "|     12|Dracula: Dead and...|       Comedy|Horror|1995|  1990|\n",
      "|     13|        Balto (1995)|Adventure|Animati...|1995|  1990|\n",
      "|     14|        Nixon (1995)|               Drama|1995|  1990|\n",
      "|     15|Cutthroat Island ...|Action|Adventure|...|1995|  1990|\n",
      "|     16|       Casino (1995)|         Crime|Drama|1995|  1990|\n",
      "|     17|Sense and Sensibi...|       Drama|Romance|1995|  1990|\n",
      "|     18|   Four Rooms (1995)|              Comedy|1995|  1990|\n",
      "|     19|Ace Ventura: When...|              Comedy|1995|  1990|\n",
      "|     20|  Money Train (1995)|Action|Comedy|Cri...|1995|  1990|\n",
      "+-------+--------------------+--------------------+----+------+\n",
      "only showing top 20 rows\n",
      "\n"
     ]
    }
   ],
   "source": [
    "def calDecade(years):\n",
    "    return (years - years%10)\n",
    "\n",
    "decadeudf = udf(calDecade, IntegerType())\n",
    "movieDecade = cleanedMovie.withColumn('Decade', decadeudf(col('Year')).cast(IntegerType()))\n",
    "movieDecade.show()\n",
    "\n",
    "movieDecade.filter('Decade == 1990').show()"
   ]
  },
  {
   "cell_type": "code",
   "execution_count": null,
   "metadata": {},
   "outputs": [],
   "source": []
  }
 ],
 "metadata": {
  "kernelspec": {
   "display_name": "Python 3",
   "language": "python",
   "name": "python3"
  },
  "language_info": {
   "codemirror_mode": {
    "name": "ipython",
    "version": 3
   },
   "file_extension": ".py",
   "mimetype": "text/x-python",
   "name": "python",
   "nbconvert_exporter": "python",
   "pygments_lexer": "ipython3",
   "version": "3.7.9"
  }
 },
 "nbformat": 4,
 "nbformat_minor": 4
}
